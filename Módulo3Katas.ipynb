{
 "cells": [
  {
   "cell_type": "markdown",
   "metadata": {},
   "source": [
    "Para este ejercicio, escribirás una lógica condicional que imprima una advertencia si un asteroide se acerca a la Tierra demasiado rápido. La velocidad del asteroide varía dependiendo de lo cerca que esté del sol, y cualquier velocidad superior a 25 kilómetros por segundo (km/s) merece una advertencia.\n",
    "\n",
    "Un asteroide se acerca, y viaja a una velocidad de 49 km/s."
   ]
  },
  {
   "cell_type": "code",
   "execution_count": 4,
   "metadata": {},
   "outputs": [
    {
     "name": "stdout",
     "output_type": "stream",
     "text": [
      "El asteroide viaja a mas de 25 Km/s representa un peligro para la tierra\n"
     ]
    }
   ],
   "source": [
    "vasteroide = 49\n",
    "advertencia = \"El asteroide viaja a mas de 25 Km/s representa un peligro para la tierra\"\n",
    "nadvertencia = \"El asteroide no representa un peligro para la tierra\"\n",
    "\n",
    "if vasteroide > 25:\n",
    "    print (advertencia)\n",
    "else:\n",
    "    print (nadvertencia)"
   ]
  },
  {
   "cell_type": "markdown",
   "metadata": {},
   "source": [
    "Si un asteroide entra en la atmósfera de la Tierra a una velocidad mayor o igual a 20 km/s, a veces produce un rayo de luz que se puede ver desde la Tierra. Escribe la lógica condicional que usa declaraciones if, else, y elif para alertar a las personas de todo el mundo que deben buscar un asteroide en el cielo. ¡Hay uno que se dirige a la tierra ahora a una velocidad de 19 km/s!"
   ]
  },
  {
   "cell_type": "code",
   "execution_count": 5,
   "metadata": {},
   "outputs": [
    {
     "name": "stdout",
     "output_type": "stream",
     "text": [
      "El asteroide va a una velocidad menor de 20 km/s pero no presenta un rayo de luz\n"
     ]
    }
   ],
   "source": [
    "vaste = 19\n",
    "mensaje = \"El asteroide va a una velocidad de 20 km/s, presenta un rayo de luz\"\n",
    "mensaje2= \"El asteroide va a mas  de 20 km/s, presenta un rayo de luz\"\n",
    "mensaje3 = \"El asteroide va a una velocidad menor de 20 km/s pero no presenta un rayo de luz\"\n",
    "if vaste >= 20:\n",
    "    if vaste > 20:\n",
    "        print (mensaje2)\n",
    "    else:\n",
    "        print (mensaje)\n",
    "elif vaste < 20:\n",
    "    print (mensaje3)"
   ]
  },
  {
   "cell_type": "markdown",
   "metadata": {},
   "source": [
    "*Los asteroides de menos de 25 metros en su dimensión más grande probablemente se quemarán a medida que entren en la atmósfera de la Tierra.\n",
    "\n",
    "Si una pieza de un asteroide que es más grande que 25 metros pero más pequeña que 1000 metros golpeara la Tierra, causaría mucho daño.\n",
    "También discutimos en el ejercicio anterior que:\n",
    "\n",
    "La velocidad del asteroide varía en función de lo cerca que esté del sol, y cualquier velocidad superior a 25 kilómetros por segundo (km/s) merece una advertencia.\n",
    "Si un asteroide entra en la atmósfera de la Tierra a una velocidad mayor o igual a 20 km/s, a veces produce un rayo de luz que se puede ver desde la Tierra.\n",
    "Agrega el código para crear nuevas variables para la velocidad y el tamaño del asteroide\n",
    "Para probar el código, prueba con varias velocidades y tamaños\n",
    "Escribe varias expresiones de prueba o combinaciones de expresiones de prueba para determinar qué mensaje se debe enviar a Tierra."
   ]
  },
  {
   "cell_type": "code",
   "execution_count": 6,
   "metadata": {},
   "outputs": [
    {
     "name": "stdout",
     "output_type": "stream",
     "text": [
      "El asteroide va a mas  de 20 km/s, presenta un rayo de luz\n"
     ]
    }
   ],
   "source": [
    "vaster = 25\n",
    "taster = 40\n",
    "mpeligro = \"Un asteroide se acerca a la tierra es peligroso\"\n",
    "comment = \"Nada que ver\"\n",
    "if vaster > 25 and taster > 25:\n",
    "    print (mpeligro)\n",
    "elif vaster >= 20:\n",
    "    print(mensaje2)\n",
    "elif taster < 25:\n",
    "    print (comment)\n",
    "else:\n",
    "    print (comment)\n"
   ]
  }
 ],
 "metadata": {
  "interpreter": {
   "hash": "e1fe36202cf6e25f653940d2d439999aaca0be74b8414464abf99434b2f37ca9"
  },
  "kernelspec": {
   "display_name": "Python 3.10.2 64-bit",
   "language": "python",
   "name": "python3"
  },
  "language_info": {
   "codemirror_mode": {
    "name": "ipython",
    "version": 3
   },
   "file_extension": ".py",
   "mimetype": "text/x-python",
   "name": "python",
   "nbconvert_exporter": "python",
   "pygments_lexer": "ipython3",
   "version": "3.10.2"
  },
  "orig_nbformat": 4
 },
 "nbformat": 4,
 "nbformat_minor": 2
}
